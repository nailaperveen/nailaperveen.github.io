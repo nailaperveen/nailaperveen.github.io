{
 "cells": [
  {
   "cell_type": "code",
   "execution_count": 2,
   "metadata": {
    "collapsed": false
   },
   "outputs": [],
   "source": [
    "patient=[[],[],[],[],[],[]]\n",
    "patient[0]=[1012,\t58,\t115,\t30,\t'F',\t2-9-2016]\n",
    "patient[1]=[1013,\t59,\t117,\t25,\t'F',\t7-9-2016]\n",
    "patient[2]=[1014,\t63,\t129,\t62,\t'F',\t10-9-2016]\n",
    "patient[3]=[1015,\t64,\t132,\t22,\t'F',\t12-9-2015]\n",
    "patient[4]=[1016,\t76,\t180,\t62,\t'M',\t16-9-2014]"
   ]
  },
  {
   "cell_type": "code",
   "execution_count": 3,
   "metadata": {
    "collapsed": false
   },
   "outputs": [
    {
     "name": "stdout",
     "output_type": "stream",
     "text": [
      "[1012, 58, 115, 30, 'F', -2023]\n",
      "[1013, 59, 117, 25, 'F', -2018]\n",
      "[1014, 63, 129, 62, 'F', -2015]\n",
      "[1015, 64, 132, 22, 'F', -2012]\n",
      "[1016, 76, 180, 62, 'M', -2007]\n"
     ]
    }
   ],
   "source": [
    "print(patient[0]) \n",
    "print(patient[1]) \n",
    "print(patient[2]) \n",
    "print(patient[3]) \n",
    "print(patient[4])"
   ]
  },
  {
   "cell_type": "code",
   "execution_count": 6,
   "metadata": {
    "collapsed": false
   },
   "outputs": [
    {
     "name": "stdout",
     "output_type": "stream",
     "text": [
      "[1012, 58, 115, 30, 'F', -2023]\n",
      "[1013, 59, 117, 25, 'F', -2018]\n",
      "[1014, 63, 129, 62, 'F', -2015]\n",
      "[1015, 64, 132, 22, 'F', -2012]\n",
      "[1016, 76, 180, 62, 'M', -2007]\n",
      "[]\n"
     ]
    }
   ],
   "source": [
    "for pt in patient:\n",
    "    print(pt)\n"
   ]
  },
  {
   "cell_type": "code",
   "execution_count": null,
   "metadata": {
    "collapsed": true
   },
   "outputs": [],
   "source": []
  }
 ],
 "metadata": {
  "anaconda-cloud": {},
  "kernelspec": {
   "display_name": "Python [Root]",
   "language": "python",
   "name": "Python [Root]"
  },
  "language_info": {
   "codemirror_mode": {
    "name": "ipython",
    "version": 3
   },
   "file_extension": ".py",
   "mimetype": "text/x-python",
   "name": "python",
   "nbconvert_exporter": "python",
   "pygments_lexer": "ipython3",
   "version": "3.5.2"
  }
 },
 "nbformat": 4,
 "nbformat_minor": 1
}
